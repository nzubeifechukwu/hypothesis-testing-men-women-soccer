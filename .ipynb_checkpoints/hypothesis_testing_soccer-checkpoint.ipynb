{
 "cells": [
  {
   "cell_type": "markdown",
   "metadata": {},
   "source": [
    "# Hypothesis Testing with Men's and Women's Soccer Matches"
   ]
  },
  {
   "cell_type": "markdown",
   "metadata": {},
   "source": [
    "In this project, I apply my statistical testing skills to historical data of men's and women's international soccer matches. Specifically, I perform a hypothesis test to answer the question:\n",
    "\n",
    "> Are more goals are scored in women's international soccer matches than men's?\n",
    "\n",
    "For this analysis, I assume a **10% significance level** and use the following null and alternative hypotheses:\n",
    "\n",
    "- $H_0$: The mean number of goals scored in women's international soccer matches is the same as men's.\n",
    "- $H_A$: The mean number of goals scored in women's international soccer matches is greater than men's.\n",
    "\n",
    "Because the sport has changed a lot over the years, and performances likely vary a lot depending on the tournament, I limit the data used in the analysis to only `FIFA World Cup matches` (excluding qualifiers) since `2002-01-01`. I also assume that each match is fully independent, i.e. team form is ignored.\n",
    "\n",
    "The idea and dataset for this project are from [this DataCamp project](https://app.datacamp.com/learn/projects/hypothesis_testing_with_mens_and_womens_soccer_matches/guided/Python)."
   ]
  },
  {
   "cell_type": "markdown",
   "metadata": {},
   "source": [
    "## Load and inspect data"
   ]
  },
  {
   "cell_type": "code",
   "execution_count": 13,
   "metadata": {},
   "outputs": [],
   "source": [
    "# Import libraries\n",
    "import pandas as pd\n",
    "import numpy as np\n",
    "import matplotlib.pyplot as plt\n",
    "from scipy.stats import mannwhitneyu"
   ]
  },
  {
   "cell_type": "code",
   "execution_count": 14,
   "metadata": {},
   "outputs": [],
   "source": [
    "# Load data\n",
    "women_results = pd.read_csv(\"data/women_results.csv\")\n",
    "men_results = pd.read_csv(\"data/men_results.csv\")"
   ]
  },
  {
   "cell_type": "code",
   "execution_count": 15,
   "metadata": {},
   "outputs": [
    {
     "name": "stdout",
     "output_type": "stream",
     "text": [
      "<class 'pandas.core.frame.DataFrame'>\n",
      "RangeIndex: 4884 entries, 0 to 4883\n",
      "Data columns (total 7 columns):\n",
      "Unnamed: 0    4884 non-null int64\n",
      "date          4884 non-null object\n",
      "home_team     4884 non-null object\n",
      "away_team     4884 non-null object\n",
      "home_score    4884 non-null int64\n",
      "away_score    4884 non-null int64\n",
      "tournament    4884 non-null object\n",
      "dtypes: int64(3), object(4)\n",
      "memory usage: 267.2+ KB\n",
      "None\n"
     ]
    },
    {
     "data": {
      "text/html": [
       "<div>\n",
       "<style scoped>\n",
       "    .dataframe tbody tr th:only-of-type {\n",
       "        vertical-align: middle;\n",
       "    }\n",
       "\n",
       "    .dataframe tbody tr th {\n",
       "        vertical-align: top;\n",
       "    }\n",
       "\n",
       "    .dataframe thead th {\n",
       "        text-align: right;\n",
       "    }\n",
       "</style>\n",
       "<table border=\"1\" class=\"dataframe\">\n",
       "  <thead>\n",
       "    <tr style=\"text-align: right;\">\n",
       "      <th></th>\n",
       "      <th>Unnamed: 0</th>\n",
       "      <th>date</th>\n",
       "      <th>home_team</th>\n",
       "      <th>away_team</th>\n",
       "      <th>home_score</th>\n",
       "      <th>away_score</th>\n",
       "      <th>tournament</th>\n",
       "    </tr>\n",
       "  </thead>\n",
       "  <tbody>\n",
       "    <tr>\n",
       "      <th>0</th>\n",
       "      <td>0</td>\n",
       "      <td>1969-11-01</td>\n",
       "      <td>Italy</td>\n",
       "      <td>France</td>\n",
       "      <td>1</td>\n",
       "      <td>0</td>\n",
       "      <td>Euro</td>\n",
       "    </tr>\n",
       "    <tr>\n",
       "      <th>1</th>\n",
       "      <td>1</td>\n",
       "      <td>1969-11-01</td>\n",
       "      <td>Denmark</td>\n",
       "      <td>England</td>\n",
       "      <td>4</td>\n",
       "      <td>3</td>\n",
       "      <td>Euro</td>\n",
       "    </tr>\n",
       "    <tr>\n",
       "      <th>2</th>\n",
       "      <td>2</td>\n",
       "      <td>1969-11-02</td>\n",
       "      <td>England</td>\n",
       "      <td>France</td>\n",
       "      <td>2</td>\n",
       "      <td>0</td>\n",
       "      <td>Euro</td>\n",
       "    </tr>\n",
       "    <tr>\n",
       "      <th>3</th>\n",
       "      <td>3</td>\n",
       "      <td>1969-11-02</td>\n",
       "      <td>Italy</td>\n",
       "      <td>Denmark</td>\n",
       "      <td>3</td>\n",
       "      <td>1</td>\n",
       "      <td>Euro</td>\n",
       "    </tr>\n",
       "    <tr>\n",
       "      <th>4</th>\n",
       "      <td>4</td>\n",
       "      <td>1975-08-25</td>\n",
       "      <td>Thailand</td>\n",
       "      <td>Australia</td>\n",
       "      <td>3</td>\n",
       "      <td>2</td>\n",
       "      <td>AFC Championship</td>\n",
       "    </tr>\n",
       "  </tbody>\n",
       "</table>\n",
       "</div>"
      ],
      "text/plain": [
       "   Unnamed: 0        date home_team  away_team  home_score  away_score  \\\n",
       "0           0  1969-11-01     Italy     France           1           0   \n",
       "1           1  1969-11-01   Denmark    England           4           3   \n",
       "2           2  1969-11-02   England     France           2           0   \n",
       "3           3  1969-11-02     Italy    Denmark           3           1   \n",
       "4           4  1975-08-25  Thailand  Australia           3           2   \n",
       "\n",
       "         tournament  \n",
       "0              Euro  \n",
       "1              Euro  \n",
       "2              Euro  \n",
       "3              Euro  \n",
       "4  AFC Championship  "
      ]
     },
     "execution_count": 15,
     "metadata": {},
     "output_type": "execute_result"
    }
   ],
   "source": [
    "# Inspect women data\n",
    "print(women_results.info())\n",
    "women_results.head()"
   ]
  },
  {
   "cell_type": "code",
   "execution_count": 16,
   "metadata": {},
   "outputs": [
    {
     "name": "stdout",
     "output_type": "stream",
     "text": [
      "<class 'pandas.core.frame.DataFrame'>\n",
      "RangeIndex: 44353 entries, 0 to 44352\n",
      "Data columns (total 7 columns):\n",
      "Unnamed: 0    44353 non-null int64\n",
      "date          44353 non-null object\n",
      "home_team     44353 non-null object\n",
      "away_team     44353 non-null object\n",
      "home_score    44353 non-null int64\n",
      "away_score    44353 non-null int64\n",
      "tournament    44353 non-null object\n",
      "dtypes: int64(3), object(4)\n",
      "memory usage: 2.4+ MB\n",
      "None\n"
     ]
    },
    {
     "data": {
      "text/html": [
       "<div>\n",
       "<style scoped>\n",
       "    .dataframe tbody tr th:only-of-type {\n",
       "        vertical-align: middle;\n",
       "    }\n",
       "\n",
       "    .dataframe tbody tr th {\n",
       "        vertical-align: top;\n",
       "    }\n",
       "\n",
       "    .dataframe thead th {\n",
       "        text-align: right;\n",
       "    }\n",
       "</style>\n",
       "<table border=\"1\" class=\"dataframe\">\n",
       "  <thead>\n",
       "    <tr style=\"text-align: right;\">\n",
       "      <th></th>\n",
       "      <th>Unnamed: 0</th>\n",
       "      <th>date</th>\n",
       "      <th>home_team</th>\n",
       "      <th>away_team</th>\n",
       "      <th>home_score</th>\n",
       "      <th>away_score</th>\n",
       "      <th>tournament</th>\n",
       "    </tr>\n",
       "  </thead>\n",
       "  <tbody>\n",
       "    <tr>\n",
       "      <th>0</th>\n",
       "      <td>0</td>\n",
       "      <td>1872-11-30</td>\n",
       "      <td>Scotland</td>\n",
       "      <td>England</td>\n",
       "      <td>0</td>\n",
       "      <td>0</td>\n",
       "      <td>Friendly</td>\n",
       "    </tr>\n",
       "    <tr>\n",
       "      <th>1</th>\n",
       "      <td>1</td>\n",
       "      <td>1873-03-08</td>\n",
       "      <td>England</td>\n",
       "      <td>Scotland</td>\n",
       "      <td>4</td>\n",
       "      <td>2</td>\n",
       "      <td>Friendly</td>\n",
       "    </tr>\n",
       "    <tr>\n",
       "      <th>2</th>\n",
       "      <td>2</td>\n",
       "      <td>1874-03-07</td>\n",
       "      <td>Scotland</td>\n",
       "      <td>England</td>\n",
       "      <td>2</td>\n",
       "      <td>1</td>\n",
       "      <td>Friendly</td>\n",
       "    </tr>\n",
       "    <tr>\n",
       "      <th>3</th>\n",
       "      <td>3</td>\n",
       "      <td>1875-03-06</td>\n",
       "      <td>England</td>\n",
       "      <td>Scotland</td>\n",
       "      <td>2</td>\n",
       "      <td>2</td>\n",
       "      <td>Friendly</td>\n",
       "    </tr>\n",
       "    <tr>\n",
       "      <th>4</th>\n",
       "      <td>4</td>\n",
       "      <td>1876-03-04</td>\n",
       "      <td>Scotland</td>\n",
       "      <td>England</td>\n",
       "      <td>3</td>\n",
       "      <td>0</td>\n",
       "      <td>Friendly</td>\n",
       "    </tr>\n",
       "  </tbody>\n",
       "</table>\n",
       "</div>"
      ],
      "text/plain": [
       "   Unnamed: 0        date home_team away_team  home_score  away_score  \\\n",
       "0           0  1872-11-30  Scotland   England           0           0   \n",
       "1           1  1873-03-08   England  Scotland           4           2   \n",
       "2           2  1874-03-07  Scotland   England           2           1   \n",
       "3           3  1875-03-06   England  Scotland           2           2   \n",
       "4           4  1876-03-04  Scotland   England           3           0   \n",
       "\n",
       "  tournament  \n",
       "0   Friendly  \n",
       "1   Friendly  \n",
       "2   Friendly  \n",
       "3   Friendly  \n",
       "4   Friendly  "
      ]
     },
     "execution_count": 16,
     "metadata": {},
     "output_type": "execute_result"
    }
   ],
   "source": [
    "# Inspect men data\n",
    "print(men_results.info())\n",
    "men_results.head()"
   ]
  },
  {
   "cell_type": "markdown",
   "metadata": {},
   "source": [
    "## Exploratory data analysis (EDA)"
   ]
  },
  {
   "cell_type": "markdown",
   "metadata": {},
   "source": [
    "Inspecting the details of the data above, we see that the `date` column is of string data type. To proceed with our analysis, it needs to be converted to a `datetime` type."
   ]
  },
  {
   "cell_type": "code",
   "execution_count": 17,
   "metadata": {},
   "outputs": [],
   "source": [
    "# Convert `date` columns to datetime\n",
    "women_results[\"date\"] = pd.to_datetime(women_results[\"date\"], infer_datetime_format=True)\n",
    "men_results[\"date\"] = pd.to_datetime(men_results[\"date\"], infer_datetime_format=True)"
   ]
  },
  {
   "cell_type": "markdown",
   "metadata": {},
   "source": [
    "Let's also inspect the `tournament` column to see if there are any FIFA World Cup matches."
   ]
  },
  {
   "cell_type": "code",
   "execution_count": 18,
   "metadata": {},
   "outputs": [
    {
     "name": "stdout",
     "output_type": "stream",
     "text": [
      "UEFA Euro qualification                 1445\n",
      "Algarve Cup                              551\n",
      "FIFA World Cup                           284\n",
      "AFC Championship                         268\n",
      "Cyprus Cup                               258\n",
      "African Championship qualification       226\n",
      "UEFA Euro                                184\n",
      "African Championship                     173\n",
      "FIFA World Cup qualification             172\n",
      "CONCACAF Gold Cup qualification          143\n",
      "AFC Asian Cup qualification              141\n",
      "Copa América                             131\n",
      "Olympic Games                            130\n",
      "CONCACAF Gold Cup                        126\n",
      "Friendly                                 111\n",
      "AFC Asian Cup                            111\n",
      "Four Nations Tournament                  106\n",
      "OFC Championship                          78\n",
      "African Cup of Nations qualification      58\n",
      "CONCACAF Championship                     42\n",
      "SheBelieves Cup                           39\n",
      "Euro                                      20\n",
      "OFC Nations Cup                           16\n",
      "African Cup of Nations                    16\n",
      "Olympic Games qualification               15\n",
      "Tournament of Nations                     12\n",
      "Tournoi de France                         12\n",
      "CONCACAF Invitational Tournament           6\n",
      "OFC Nations Cup qualification              6\n",
      "Basque Country Women's Cup                 4\n",
      "Name: tournament, dtype: int64\n"
     ]
    },
    {
     "data": {
      "text/plain": [
       "Friendly                                         17519\n",
       "FIFA World Cup qualification                      7878\n",
       "UEFA Euro qualification                           2585\n",
       "African Cup of Nations qualification              1932\n",
       "FIFA World Cup                                     964\n",
       "Copa América                                       841\n",
       "AFC Asian Cup qualification                        764\n",
       "African Cup of Nations                             741\n",
       "CECAFA Cup                                         620\n",
       "CFU Caribbean Cup qualification                    606\n",
       "Merdeka Tournament                                 595\n",
       "British Home Championship                          517\n",
       "UEFA Nations League                                468\n",
       "Gulf Cup                                           380\n",
       "AFC Asian Cup                                      370\n",
       "Gold Cup                                           358\n",
       "Island Games                                       350\n",
       "UEFA Euro                                          337\n",
       "COSAFA Cup                                         309\n",
       "AFF Championship                                   293\n",
       "Nordic Championship                                283\n",
       "African Nations Championship                       264\n",
       "CFU Caribbean Cup                                  251\n",
       "King's Cup                                         239\n",
       "Amílcar Cabral Cup                                 235\n",
       "South Pacific Games                                205\n",
       "CONCACAF Nations League                            173\n",
       "CONCACAF Championship                              169\n",
       "UNCAF Cup                                          164\n",
       "Korea Cup                                          159\n",
       "                                                 ...  \n",
       "Mundialito                                           7\n",
       "Copa Félix Bogado                                    6\n",
       "Copa Ramón Castilla                                  6\n",
       "Nations Cup                                          6\n",
       "NAFC Championship                                    6\n",
       "MSG Prime Minister's Cup                             6\n",
       "OSN Cup                                              4\n",
       "CONIFA Africa Football Cup                           4\n",
       "Afro-Asian Games                                     4\n",
       "Matthews Cup                                         4\n",
       "AFF Championship qualification                       4\n",
       "Dragon Cup                                           4\n",
       "Guangzhou International Friendship Tournament        4\n",
       "NAFU Championship                                    4\n",
       "Navruz Cup                                           4\n",
       "World Unity Cup                                      4\n",
       "Dakar Tournament                                     4\n",
       "Great Wall Cup                                       4\n",
       "Phillip Seaga Cup                                    3\n",
       "Three Nations Cup                                    3\n",
       "CONMEBOL–UEFA Cup of Champions                       3\n",
       "CONIFA South America Football Cup                    3\n",
       "Atlantic Heritage Cup                                2\n",
       "Copa América qualification                           2\n",
       "Cup of Ancient Civilizations                         2\n",
       "Évence Coppée Trophy                                 1\n",
       "FIFA 75th Anniversary Cup                            1\n",
       "Copa Confraternidad                                  1\n",
       "TIFOCO Tournament                                    1\n",
       "Real Madrid 75th Anniversary Cup                     1\n",
       "Name: tournament, Length: 141, dtype: int64"
      ]
     },
     "execution_count": 18,
     "metadata": {},
     "output_type": "execute_result"
    }
   ],
   "source": [
    "print(women_results[\"tournament\"].value_counts())\n",
    "men_results[\"tournament\"].value_counts()"
   ]
  },
  {
   "cell_type": "markdown",
   "metadata": {},
   "source": [
    "## Get only FIFA World Cup matches since 2002"
   ]
  },
  {
   "cell_type": "markdown",
   "metadata": {},
   "source": [
    "From the results of the EDA, we'll use the string `FIFA World Cup` to filter our data (in addition to using only records since `2002-01-01`)."
   ]
  },
  {
   "cell_type": "code",
   "execution_count": 19,
   "metadata": {},
   "outputs": [],
   "source": [
    "# Get only FIFA World Cup matches since 2002\n",
    "women_wc_since_02 = women_results[\n",
    "    (women_results[\"date\"] >= \"2002-01-01\") & (women_results[\"tournament\"] == \"FIFA World Cup\")\n",
    "]\n",
    "men_wc_since_02 = men_results[\n",
    "    (men_results[\"date\"] >= \"2002-01-01\") & (men_results[\"tournament\"] == \"FIFA World Cup\")\n",
    "]"
   ]
  },
  {
   "cell_type": "code",
   "execution_count": 20,
   "metadata": {},
   "outputs": [
    {
     "data": {
      "text/html": [
       "<div>\n",
       "<style scoped>\n",
       "    .dataframe tbody tr th:only-of-type {\n",
       "        vertical-align: middle;\n",
       "    }\n",
       "\n",
       "    .dataframe tbody tr th {\n",
       "        vertical-align: top;\n",
       "    }\n",
       "\n",
       "    .dataframe thead th {\n",
       "        text-align: right;\n",
       "    }\n",
       "</style>\n",
       "<table border=\"1\" class=\"dataframe\">\n",
       "  <thead>\n",
       "    <tr style=\"text-align: right;\">\n",
       "      <th></th>\n",
       "      <th>Unnamed: 0</th>\n",
       "      <th>date</th>\n",
       "      <th>home_team</th>\n",
       "      <th>away_team</th>\n",
       "      <th>home_score</th>\n",
       "      <th>away_score</th>\n",
       "      <th>tournament</th>\n",
       "    </tr>\n",
       "  </thead>\n",
       "  <tbody>\n",
       "    <tr>\n",
       "      <th>1600</th>\n",
       "      <td>1600</td>\n",
       "      <td>2003-09-20</td>\n",
       "      <td>Nigeria</td>\n",
       "      <td>North Korea</td>\n",
       "      <td>0</td>\n",
       "      <td>3</td>\n",
       "      <td>FIFA World Cup</td>\n",
       "    </tr>\n",
       "    <tr>\n",
       "      <th>1601</th>\n",
       "      <td>1601</td>\n",
       "      <td>2003-09-20</td>\n",
       "      <td>Norway</td>\n",
       "      <td>France</td>\n",
       "      <td>2</td>\n",
       "      <td>0</td>\n",
       "      <td>FIFA World Cup</td>\n",
       "    </tr>\n",
       "    <tr>\n",
       "      <th>1602</th>\n",
       "      <td>1602</td>\n",
       "      <td>2003-09-20</td>\n",
       "      <td>Germany</td>\n",
       "      <td>Canada</td>\n",
       "      <td>4</td>\n",
       "      <td>1</td>\n",
       "      <td>FIFA World Cup</td>\n",
       "    </tr>\n",
       "    <tr>\n",
       "      <th>1603</th>\n",
       "      <td>1603</td>\n",
       "      <td>2003-09-20</td>\n",
       "      <td>Japan</td>\n",
       "      <td>Argentina</td>\n",
       "      <td>6</td>\n",
       "      <td>0</td>\n",
       "      <td>FIFA World Cup</td>\n",
       "    </tr>\n",
       "    <tr>\n",
       "      <th>1604</th>\n",
       "      <td>1604</td>\n",
       "      <td>2003-09-21</td>\n",
       "      <td>United States</td>\n",
       "      <td>Sweden</td>\n",
       "      <td>3</td>\n",
       "      <td>1</td>\n",
       "      <td>FIFA World Cup</td>\n",
       "    </tr>\n",
       "  </tbody>\n",
       "</table>\n",
       "</div>"
      ],
      "text/plain": [
       "      Unnamed: 0       date      home_team    away_team  home_score  \\\n",
       "1600        1600 2003-09-20        Nigeria  North Korea           0   \n",
       "1601        1601 2003-09-20         Norway       France           2   \n",
       "1602        1602 2003-09-20        Germany       Canada           4   \n",
       "1603        1603 2003-09-20          Japan    Argentina           6   \n",
       "1604        1604 2003-09-21  United States       Sweden           3   \n",
       "\n",
       "      away_score      tournament  \n",
       "1600           3  FIFA World Cup  \n",
       "1601           0  FIFA World Cup  \n",
       "1602           1  FIFA World Cup  \n",
       "1603           0  FIFA World Cup  \n",
       "1604           1  FIFA World Cup  "
      ]
     },
     "execution_count": 20,
     "metadata": {},
     "output_type": "execute_result"
    }
   ],
   "source": [
    "women_wc_since_02.head()"
   ]
  },
  {
   "cell_type": "markdown",
   "metadata": {},
   "source": [
    "## Determine the type of hypothesis test to use"
   ]
  },
  {
   "cell_type": "markdown",
   "metadata": {},
   "source": [
    "Because there are two independent groups, men and women, this scenario requires an _unpaired_ two-sample test. An unpaired t-test and a Wilcoxon–Mann–Whitney (or Mann–Whitney _U_) test are the commmonest two-sample tests, where the Wilcoxon–Mann-Whitney test is a non-parametric version of the unpaired t-test.\n",
    "\n",
    "To determine if a parametric or non-parametric test is appropriate, Let's verify the underlying assumptions of parametric tests, including checking the sample size in each group and the normality of each distribution."
   ]
  },
  {
   "cell_type": "code",
   "execution_count": 21,
   "metadata": {},
   "outputs": [
    {
     "name": "stdout",
     "output_type": "stream",
     "text": [
      "(200, 7)\n"
     ]
    },
    {
     "data": {
      "text/plain": [
       "(384, 7)"
      ]
     },
     "execution_count": 21,
     "metadata": {},
     "output_type": "execute_result"
    }
   ],
   "source": [
    "# Check sample size for each group\n",
    "print(women_wc_since_02.shape)\n",
    "men_wc_since_02.shape"
   ]
  },
  {
   "cell_type": "markdown",
   "metadata": {},
   "source": [
    "The samples are sufficiently large (at least 30 in each group), fulfilling the first requirement for an unpaired t-test. Let's now check the normality for the variable of concern, which is the total goals scored per match (i.e. `home_score` + `away_score`)."
   ]
  },
  {
   "cell_type": "code",
   "execution_count": 22,
   "metadata": {},
   "outputs": [
    {
     "name": "stderr",
     "output_type": "stream",
     "text": [
      "C:\\Users\\ADMIN\\Anaconda3\\lib\\site-packages\\ipykernel_launcher.py:2: SettingWithCopyWarning: \n",
      "A value is trying to be set on a copy of a slice from a DataFrame.\n",
      "Try using .loc[row_indexer,col_indexer] = value instead\n",
      "\n",
      "See the caveats in the documentation: http://pandas.pydata.org/pandas-docs/stable/indexing.html#indexing-view-versus-copy\n",
      "  \n",
      "C:\\Users\\ADMIN\\Anaconda3\\lib\\site-packages\\ipykernel_launcher.py:3: SettingWithCopyWarning: \n",
      "A value is trying to be set on a copy of a slice from a DataFrame.\n",
      "Try using .loc[row_indexer,col_indexer] = value instead\n",
      "\n",
      "See the caveats in the documentation: http://pandas.pydata.org/pandas-docs/stable/indexing.html#indexing-view-versus-copy\n",
      "  This is separate from the ipykernel package so we can avoid doing imports until\n"
     ]
    }
   ],
   "source": [
    "# Create `total_goals` column\n",
    "women_wc_since_02[\"total_goals\"] = women_wc_since_02[\"home_score\"] + women_wc_since_02[\"away_score\"]\n",
    "men_wc_since_02[\"total_goals\"] = men_wc_since_02[\"home_score\"] + men_wc_since_02[\"away_score\"]"
   ]
  },
  {
   "cell_type": "code",
   "execution_count": 27,
   "metadata": {},
   "outputs": [
    {
     "data": {
      "image/png": "[encoded data removed]",
      "text/plain": [
       "<Figure size 432x288 with 1 Axes>"
      ]
     },
     "metadata": {
      "needs_background": "light"
     },
     "output_type": "display_data"
    }
   ],
   "source": [
    "# Check normality for women matches\n",
    "women_wc_since_02[\"total_goals\"].hist()\n",
    "plt.title(\"Distribution of Total Goals Scored in Women World Cup Matches since 2022\")\n",
    "plt.xlabel(\"Goals\")\n",
    "plt.ylabel(\"Match Count\")\n",
    "plt.show()"
   ]
  },
  {
   "cell_type": "code",
   "execution_count": 28,
   "metadata": {},
   "outputs": [
    {
     "data": {
      "image/png": "[encoded data removed]",
      "text/plain": [
       "<Figure size 432x288 with 1 Axes>"
      ]
     },
     "metadata": {
      "needs_background": "light"
     },
     "output_type": "display_data"
    }
   ],
   "source": [
    "# Check normality for men matches\n",
    "men_wc_since_02[\"total_goals\"].hist()\n",
    "plt.title(\"Distribution of Total Goals Scored in Men World Cup Matches since 2022\")\n",
    "plt.xlabel(\"Goals\")\n",
    "plt.ylabel(\"Match Count\")\n",
    "plt.show()"
   ]
  },
  {
   "cell_type": "markdown",
   "metadata": {},
   "source": [
    "The distribution of goals scored is not normal for any of the groups. This means we'll we use a non-parametric test, namely the Mann–Whitney _U_ test."
   ]
  },
  {
   "cell_type": "markdown",
   "metadata": {},
   "source": [
    "## Perform the hypothesis test"
   ]
  },
  {
   "cell_type": "markdown",
   "metadata": {},
   "source": [
    "We'll use the `scipy.stats.mannwhitneyu()` module to perform the Wilcoxon-Mann-Whitney test. The function takes three arguments:\n",
    "- `x`, the values you suspect are higher from the hypotheses\n",
    "- `y`, the values to compare against\n",
    "- `alternative`, a string indicating whether the test is:\n",
    "    - left-tailed (`less`, for when $H_A$ suggests _lower_ values than $H_0$)\n",
    "    - right-tailed (`greater`, for when $H_A$ suggests _higher_ values than $H_0$)\n",
    "    - two-tailed (`two-sided`, for when for when $H_A$ just suggests _difference_ without specifying direction)."
   ]
  },
  {
   "cell_type": "code",
   "execution_count": 31,
   "metadata": {},
   "outputs": [
    {
     "data": {
      "text/plain": [
       "MannwhitneyuResult(statistic=43273.0, pvalue=0.005106609825443641)"
      ]
     },
     "execution_count": 31,
     "metadata": {},
     "output_type": "execute_result"
    }
   ],
   "source": [
    "alpha = 0.1  # significance level is 10%\n",
    "mannwhitneyu(x=women_wc_since_02[\"total_goals\"], y=men_wc_since_02[\"total_goals\"], alternative='greater')"
   ]
  },
  {
   "cell_type": "markdown",
   "metadata": {},
   "source": [
    "The `p-value` is less than `alpha`, so we reject the null hypothesis."
   ]
  },
  {
   "cell_type": "code",
   "execution_count": null,
   "metadata": {},
   "outputs": [],
   "source": []
  }
 ],
 "metadata": {
  "kernelspec": {
   "display_name": "Python 3",
   "language": "python",
   "name": "python3"
  },
  "language_info": {
   "codemirror_mode": {
    "name": "ipython",
    "version": 3
   },
   "file_extension": ".py",
   "mimetype": "text/x-python",
   "name": "python",
   "nbconvert_exporter": "python",
   "pygments_lexer": "ipython3",
   "version": "3.7.3"
  }
 },
 "nbformat": 4,
 "nbformat_minor": 2
}
